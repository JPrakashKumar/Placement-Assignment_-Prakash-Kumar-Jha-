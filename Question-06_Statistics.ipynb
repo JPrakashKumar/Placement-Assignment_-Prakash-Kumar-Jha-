{
 "cells": [
  {
   "cell_type": "code",
   "execution_count": 1,
   "id": "b92ba367",
   "metadata": {},
   "outputs": [
    {
     "name": "stdout",
     "output_type": "stream",
     "text": [
      "   Patient ID   Blood Pressure Before (mmHg)   Blood Pressure After (mmHg)\n",
      "0           1                            130                           120\n",
      "1           2                            142                           135\n",
      "2           3                            120                           118\n",
      "3           4                            135                           127\n",
      "4           5                            148                           140\n"
     ]
    }
   ],
   "source": [
    "import pandas as pd\n",
    "\n",
    "data_url = 'https://drive.google.com/file/d/1mCjtYHiX--mMUjicuaP2gH3k-SnFxt8Y/view?usp=sharing'\n",
    "file_id = data_url.split('/')[-2]\n",
    "download_url = f'https://drive.google.com/uc?id={file_id}'\n",
    "data = pd.read_csv(download_url)\n",
    "\n",
    "# Display the data\n",
    "print(data.head())\n"
   ]
  },
  {
   "cell_type": "markdown",
   "id": "b6fd8e4f",
   "metadata": {},
   "source": [
    "Once we have the data, we can perform the Shapiro-Wilk test to check for normality. In Python, we can use the shapiro function from the scipy.stats module to perform the test.\n",
    "\n"
   ]
  },
  {
   "cell_type": "code",
   "execution_count": 7,
   "id": "c0e5c7f5",
   "metadata": {},
   "outputs": [
    {
     "name": "stdout",
     "output_type": "stream",
     "text": [
      "The data does not follow a normal distribution (reject the null hypothesis).\n"
     ]
    }
   ],
   "source": [
    "from scipy.stats import shapiro\n",
    "\n",
    "# Extract the 'Blood Pressure Change' column from the data\n",
    "blood_pressure_change = data[' Blood Pressure After (mmHg)'] - data[' Blood Pressure Before (mmHg)']\n",
    "\n",
    "# Perform the Shapiro-Wilk test\n",
    "statistic, p_value = shapiro(blood_pressure_change)\n",
    "\n",
    "# Interpret the results\n",
    "alpha = 0.05  # Significance level\n",
    "\n",
    "if p_value > alpha:\n",
    "    print(\"The data follows a normal distribution (failed to reject the null hypothesis).\")\n",
    "else:\n",
    "    print(\"The data does not follow a normal distribution (reject the null hypothesis).\")\n"
   ]
  },
  {
   "cell_type": "markdown",
   "id": "6152e096",
   "metadata": {},
   "source": [
    "The Shapiro-Wilk test evaluates the null hypothesis that the data follows a normal distribution. \n",
    "\n",
    "If the p-value is greater than the chosen significance level (typically 0.05), we fail to reject the null hypothesis and conclude that the data follows a normal distribution. \n",
    "\n",
    "On the other hand, if the p-value is less than the significance level, we reject the null hypothesis and conclude that the data does not follow a normal distribution.\n",
    "\n",
    "So, In the above situation data does not follow a normal distribution."
   ]
  }
 ],
 "metadata": {
  "kernelspec": {
   "display_name": "Python 3 (ipykernel)",
   "language": "python",
   "name": "python3"
  },
  "language_info": {
   "codemirror_mode": {
    "name": "ipython",
    "version": 3
   },
   "file_extension": ".py",
   "mimetype": "text/x-python",
   "name": "python",
   "nbconvert_exporter": "python",
   "pygments_lexer": "ipython3",
   "version": "3.10.6"
  }
 },
 "nbformat": 4,
 "nbformat_minor": 5
}
