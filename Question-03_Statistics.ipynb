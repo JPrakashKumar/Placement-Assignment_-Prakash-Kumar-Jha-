{
 "cells": [
  {
   "cell_type": "code",
   "execution_count": 1,
   "id": "cc3e494d",
   "metadata": {},
   "outputs": [
    {
     "name": "stdout",
     "output_type": "stream",
     "text": [
      "    Patient ID   Blood Pressure Before (mmHg)   Blood Pressure After (mmHg)\n",
      "0            1                            130                           120\n",
      "1            2                            142                           135\n",
      "2            3                            120                           118\n",
      "3            4                            135                           127\n",
      "4            5                            148                           140\n",
      "..         ...                            ...                           ...\n",
      "95          96                            136                           129\n",
      "96          97                            143                           137\n",
      "97          98                            127                           123\n",
      "98          99                            139                           135\n",
      "99         100                            135                           130\n",
      "\n",
      "[100 rows x 3 columns]\n"
     ]
    }
   ],
   "source": [
    "import pandas as pd\n",
    "import numpy as np\n",
    "import matplotlib.pyplot as plt\n",
    "import scipy.stats as stats\n",
    "\n",
    "# Load the data from the csv file\n",
    "data = pd.read_csv('BP_data.csv')\n",
    "print(data)"
   ]
  },
  {
   "cell_type": "markdown",
   "id": "137d5d31",
   "metadata": {},
   "source": [
    "# a. Measure the dispersion in both and interpret the results."
   ]
  },
  {
   "cell_type": "code",
   "execution_count": 2,
   "id": "4425f963",
   "metadata": {},
   "outputs": [
    {
     "name": "stdout",
     "output_type": "stream",
     "text": [
      "Dispersion measures for 'Blood Pressure Before':\n",
      "Range: 28\n",
      "Variance: 43.53727272727272\n",
      "Standard Deviation: 6.598278012275076\n",
      "\n",
      "Dispersion measures for 'Blood Pressure After':\n",
      "Range: 23\n",
      "Variance: 47.44484848484848\n",
      "Standard Deviation: 6.888022102523226\n"
     ]
    }
   ],
   "source": [
    "# Calculate dispersion measures for 'Blood Pressure Before'\n",
    "bp_before_dispersion = {\n",
    "    'Range': data[' Blood Pressure Before (mmHg)'].max() - data[' Blood Pressure Before (mmHg)'].min(),\n",
    "    'Variance': data[' Blood Pressure Before (mmHg)'].var(),\n",
    "    'Standard Deviation': data[' Blood Pressure Before (mmHg)'].std()\n",
    "}\n",
    "\n",
    "# Calculate dispersion measures for 'Blood Pressure After'\n",
    "bp_after_dispersion = {\n",
    "    'Range': data[' Blood Pressure After (mmHg)'].max() - data[' Blood Pressure After (mmHg)'].min(),\n",
    "    'Variance': data[' Blood Pressure After (mmHg)'].var(),\n",
    "    'Standard Deviation': data[' Blood Pressure After (mmHg)'].std() \n",
    "}\n",
    "\n",
    "print(\"Dispersion measures for 'Blood Pressure Before':\") \n",
    "for measure, value in bp_before_dispersion.items():\n",
    "    print(f\"{measure}: {value}\")\n",
    "    \n",
    "print(\"\\nDispersion measures for 'Blood Pressure After':\")\n",
    "for measure, value in bp_after_dispersion.items():\n",
    "    print(f\"{measure}: {value}\")"
   ]
  },
  {
   "cell_type": "markdown",
   "id": "9ba2abd2",
   "metadata": {},
   "source": [
    "# b. Calculate mean and 5% confidence interval and plot it in a graph"
   ]
  },
  {
   "cell_type": "code",
   "execution_count": 8,
   "id": "c6dccef1",
   "metadata": {},
   "outputs": [
    {
     "name": "stdout",
     "output_type": "stream",
     "text": [
      "\n",
      "Mean Blood Pressure Before: 133.91\n",
      "5% Confidence Interval for Blood Pressure Before: (133.49624324587668, 134.3237567541233)\n",
      "\n",
      "Mean Blood Pressure After: 128.36\n",
      "5% Confidence Interval for Blood Pressure After: (127.92807432754914, 128.79192567245087)\n"
     ]
    },
    {
     "data": {
      "image/png": "[encoded data removed]",
      "text/plain": [
       "<Figure size 640x480 with 1 Axes>"
      ]
     },
     "metadata": {},
     "output_type": "display_data"
    }
   ],
   "source": [
    "mean_before = data[' Blood Pressure Before (mmHg)'].mean()\n",
    "mean_after = data[' Blood Pressure After (mmHg)'].mean()\n",
    "\n",
    "confidence_interval_before = stats.norm.interval(0.05, loc=mean_before, \n",
    "                                                 scale=data[' Blood Pressure Before (mmHg)'].std())\n",
    "confidence_interval_after = stats.norm.interval(0.05, loc=mean_after, \n",
    "                                                scale=data[' Blood Pressure After (mmHg)'].std())\n",
    "\n",
    "print(f\"\\nMean Blood Pressure Before: {mean_before}\")\n",
    "print(f\"5% Confidence Interval for Blood Pressure Before: {confidence_interval_before}\")\n",
    "\n",
    "print(f\"\\nMean Blood Pressure After: {mean_after}\")\n",
    "print(f\"5% Confidence Interval for Blood Pressure After: {confidence_interval_after}\")\n",
    "\n",
    "# Plotting mean and confidence interval\n",
    "plt.errorbar(['Before', 'After'], [mean_before, mean_after], yerr=[mean_before - confidence_interval_before[0], \n",
    "                                                          mean_after - confidence_interval_after[0]], fmt='o')\n",
    "plt.xlabel('Condition')\n",
    "plt.ylabel(' Mean Blood Pressure (mmHg)')\n",
    "plt.title('Mean Blood Pressure and 5% Confidence Interval')\n",
    "plt.show()"
   ]
  },
  {
   "cell_type": "markdown",
   "id": "fdc1e67c",
   "metadata": {},
   "source": [
    "# c. Calculate the Mean absolute deviation and Standard deviation and interpret the results."
   ]
  },
  {
   "cell_type": "code",
   "execution_count": 5,
   "id": "c678cefc",
   "metadata": {},
   "outputs": [
    {
     "name": "stdout",
     "output_type": "stream",
     "text": [
      "\n",
      "Mean Absolute Deviation (MAD) for Blood Pressure Before: 5.7118\n",
      "Standard Deviation (SD) for Blood Pressure Before: 6.598278012275076\n",
      "\n",
      "Mean Absolute Deviation (MAD) for Blood Pressure After: 5.9\n",
      "Standard Deviation (SD) for Blood Pressure After: 6.888022102523226\n"
     ]
    }
   ],
   "source": [
    "# Calculate Mean Absolute Deviation and Standard Deviation\n",
    "mad_before = np.mean(np.abs(data[' Blood Pressure Before (mmHg)'] - mean_before))\n",
    "mad_after = np.mean(np.abs(data[' Blood Pressure After (mmHg)'] - mean_after))\n",
    "std_before = data[' Blood Pressure Before (mmHg)'].std()\n",
    "std_after = data[' Blood Pressure After (mmHg)'].std()\n",
    "\n",
    "print(f\"\\nMean Absolute Deviation (MAD) for Blood Pressure Before: {mad_before}\")\n",
    "print(f\"Standard Deviation (SD) for Blood Pressure Before: {std_before}\")\n",
    "\n",
    "print(f\"\\nMean Absolute Deviation (MAD) for Blood Pressure After: {mad_after}\")\n",
    "print(f\"Standard Deviation (SD) for Blood Pressure After: {std_after}\")"
   ]
  },
  {
   "cell_type": "markdown",
   "id": "18732b52",
   "metadata": {},
   "source": [
    "# d. Calculate the correlation coefficient and check the significance of it at 1% level of significance."
   ]
  },
  {
   "cell_type": "code",
   "execution_count": 13,
   "id": "5f41629e",
   "metadata": {},
   "outputs": [
    {
     "name": "stdout",
     "output_type": "stream",
     "text": [
      "The correlation coefficient between Blood Pressure Before and Blood Pressure After is 0.9779485966556017\n",
      "P-value: 1.8097381433072956e-68\n",
      "The correlation is significant at the 1% level of significance.\n"
     ]
    }
   ],
   "source": [
    "# Calculate correlation coefficient and check significance at 1% level\n",
    "correlation_coefficient, p_value = stats.pearsonr(data[' Blood Pressure Before (mmHg)'], \n",
    "                                                  data[' Blood Pressure After (mmHg)'])\n",
    "\n",
    "significance = \"significant\" if p_value < 0.01 else \"not significant\"\n",
    "\n",
    "print('''The correlation coefficient between Blood Pressure Before and Blood Pressure After is ''' \n",
    "      + str(correlation_coefficient))\n",
    "print(f\"P-value: {p_value}\")\n",
    "print(\"The correlation is \" + significance + \" at the 1% level of significance.\")"
   ]
  },
  {
   "cell_type": "code",
   "execution_count": null,
   "id": "8b34e629",
   "metadata": {},
   "outputs": [],
   "source": []
  }
 ],
 "metadata": {
  "kernelspec": {
   "display_name": "Python 3 (ipykernel)",
   "language": "python",
   "name": "python3"
  },
  "language_info": {
   "codemirror_mode": {
    "name": "ipython",
    "version": 3
   },
   "file_extension": ".py",
   "mimetype": "text/x-python",
   "name": "python",
   "nbconvert_exporter": "python",
   "pygments_lexer": "ipython3",
   "version": "3.10.6"
  }
 },
 "nbformat": 4,
 "nbformat_minor": 5
}
